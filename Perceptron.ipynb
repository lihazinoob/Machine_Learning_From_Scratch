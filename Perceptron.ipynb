{
 "cells": [
  {
   "cell_type": "code",
   "execution_count": 1,
   "id": "281ca597-e299-42dc-a02d-50f4f69846d7",
   "metadata": {},
   "outputs": [],
   "source": []
  },
  {
   "cell_type": "code",
   "execution_count": 1,
   "id": "3a60214b-a079-427d-93c3-0e66e7b5ea55",
   "metadata": {},
   "outputs": [
    {
     "name": "stdout",
     "output_type": "stream",
     "text": [
      "1\n"
     ]
    }
   ],
   "source": [
    "x_array = [0.1,0.45,0.678]\n",
    "w_array = [8,2,1]\n",
    "bias = .342\n",
    "def step_function(weighted_sum):\n",
    "    if(weighted_sum >= bias):\n",
    "        return 1\n",
    "    else:\n",
    "        return 0\n",
    "\n",
    "\n",
    "def perceptron():\n",
    "    weightedsum = 0\n",
    "    for xval,wval in zip(x_array,w_array):\n",
    "        weightedsum += xval*wval\n",
    "    return step_function(weightedsum)\n",
    "\n",
    "output = perceptron()\n",
    "print(output)"
   ]
  },
  {
   "cell_type": "code",
   "execution_count": null,
   "id": "f129329a-6f16-4848-96b4-e7ad3b48694a",
   "metadata": {},
   "outputs": [],
   "source": [
    "\n",
    "    \n",
    "        "
   ]
  },
  {
   "cell_type": "code",
   "execution_count": null,
   "id": "19fb0b19-18d6-4e9c-a75b-27d4be9c1d0e",
   "metadata": {},
   "outputs": [],
   "source": []
  }
 ],
 "metadata": {
  "kernelspec": {
   "display_name": "Python 3 (ipykernel)",
   "language": "python",
   "name": "python3"
  },
  "language_info": {
   "codemirror_mode": {
    "name": "ipython",
    "version": 3
   },
   "file_extension": ".py",
   "mimetype": "text/x-python",
   "name": "python",
   "nbconvert_exporter": "python",
   "pygments_lexer": "ipython3",
   "version": "3.12.7"
  }
 },
 "nbformat": 4,
 "nbformat_minor": 5
}
