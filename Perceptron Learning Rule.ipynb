{
 "cells": [
  {
   "cell_type": "code",
   "execution_count": 13,
   "id": "f85ea27e-5c51-4ffa-8ce2-f039240fc162",
   "metadata": {},
   "outputs": [
    {
     "name": "stdout",
     "output_type": "stream",
     "text": [
      "[0 1 1]\n"
     ]
    }
   ],
   "source": [
    "import numpy as np\n",
    "# Defining an interface which we can call later to work with Perceptron\n",
    "\n",
    "class Perceptron:\n",
    "    def __init__(self,eta = 0.01,n_iter = 1000,random_state = 1):\n",
    "        self.eta = eta\n",
    "        self.n_iter = n_iter\n",
    "        self.random_state = random_state\n",
    "# This fit method is used to train the perceptronon the train dataset\n",
    "    def fit(self,X,y):\n",
    "        # Defining an object for random number generation\n",
    "        rgen = np.random.RandomState(self.random_state)\n",
    "        self.w_ = rgen.normal(loc=0.0,scale = 0.01, size = X.shape[1])\n",
    "        self.b_ = np.float_(0.)\n",
    "        self.errors_ = []\n",
    "        for _ in range(self.n_iter):\n",
    "            errors = 0\n",
    "            for xi, target in zip(X, y):\n",
    "                update = self.eta * (target - self.predict(xi))\n",
    "                self.w_ += update * xi\n",
    "                self.b_ += update\n",
    "                errors += int(update != 0.0)\n",
    "            self.errors_.append(errors)\n",
    "        return self\n",
    "\n",
    "    def net_input(self, X):\n",
    "        \"\"\"Calculate net input\"\"\"\n",
    "        return np.dot(X, self.w_) + self.b_\n",
    "\n",
    "    def predict(self, X):\n",
    "        \"\"\"Return class label after unit step\"\"\"\n",
    "        return np.where(self.net_input(X) >= 0.0, 1, 0)\n",
    "\n",
    "X = np.array([[1, 2], [3, 4], [5, 6]])  # 3 examples, 2 features each\n",
    "y = np.array([0, 1, 1])                  # Labels for each example\n",
    "\n",
    "# Create and train the perceptron\n",
    "p = Perceptron(eta=0.1, n_iter=150, random_state=1)\n",
    "p.fit(X, y)\n",
    "\n",
    "# Make a prediction\n",
    "print(p.predict(X))  # Predict for a new point\n"
   ]
  },
  {
   "cell_type": "code",
   "execution_count": null,
   "id": "d1220fe2-c126-4314-b4ca-5dee0c1a5605",
   "metadata": {},
   "outputs": [],
   "source": []
  }
 ],
 "metadata": {
  "kernelspec": {
   "display_name": "Python 3 (ipykernel)",
   "language": "python",
   "name": "python3"
  },
  "language_info": {
   "codemirror_mode": {
    "name": "ipython",
    "version": 3
   },
   "file_extension": ".py",
   "mimetype": "text/x-python",
   "name": "python",
   "nbconvert_exporter": "python",
   "pygments_lexer": "ipython3",
   "version": "3.12.7"
  }
 },
 "nbformat": 4,
 "nbformat_minor": 5
}
